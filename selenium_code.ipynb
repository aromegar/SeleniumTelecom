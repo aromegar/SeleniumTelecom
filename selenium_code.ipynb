{
 "cells": [
  {
   "cell_type": "code",
   "execution_count": 1,
   "id": "914b7c8f",
   "metadata": {},
   "outputs": [],
   "source": [
    "from selenium import webdriver\n",
    "from selenium.webdriver.chrome.options import Options\n",
    "import time\n",
    "import pandas as pd\n",
    "from selenium.webdriver.support.ui import Select\n",
    "from webdriver_manager.chrome import ChromeDriverManager"
   ]
  },
  {
   "cell_type": "code",
   "execution_count": 155,
   "id": "3c617370",
   "metadata": {},
   "outputs": [],
   "source": [
    "import time\n",
    "import re"
   ]
  },
  {
   "cell_type": "code",
   "execution_count": 11,
   "id": "8b7afd28",
   "metadata": {},
   "outputs": [],
   "source": [
    "opciones=Options()\n",
    "opciones.add_experimental_option('excludeSwitches', ['enable-automation'])\n",
    "opciones.add_experimental_option('useAutomationExtension', False)\n",
    "opciones.headless=False\n",
    "opciones.add_argument('--start-maximized')\n",
    "opciones.add_argument('--incognito')"
   ]
  },
  {
   "cell_type": "code",
   "execution_count": 14,
   "id": "d609f4b6",
   "metadata": {},
   "outputs": [
    {
     "name": "stdout",
     "output_type": "stream",
     "text": [
      "introduce tu código postal28009\n"
     ]
    }
   ],
   "source": [
    "cp = input(\"introduce tu código postal\")"
   ]
  },
  {
   "cell_type": "code",
   "execution_count": 183,
   "id": "10faa9cc",
   "metadata": {
    "scrolled": true
   },
   "outputs": [
    {
     "name": "stderr",
     "output_type": "stream",
     "text": [
      "<ipython-input-183-edbe29341d4c>:2: DeprecationWarning: executable_path has been deprecated, please pass in a Service object\n",
      "  driver = webdriver.Chrome(driver,options=opciones)\n",
      "<ipython-input-183-edbe29341d4c>:9: DeprecationWarning: find_element_by_* commands are deprecated. Please use find_element() instead\n",
      "  driver.find_element_by_css_selector(\"#cookies > div > div.col-xs-12.col-sm-5.col-md-4.buttons > button.btn.solid-main.accept-btn\").click()\n",
      "<ipython-input-183-edbe29341d4c>:15: DeprecationWarning: find_element_by_* commands are deprecated. Please use find_element() instead\n",
      "  driver.find_element_by_css_selector(\"body > div.overflow > section.products > div > div > div > div > div:nth-child(5)\").click()\n",
      "<ipython-input-183-edbe29341d4c>:19: DeprecationWarning: find_element_by_* commands are deprecated. Please use find_element() instead\n",
      "  driver.find_element_by_css_selector(\"#qt-TI-14-at-27 > div > span\").click()\n",
      "<ipython-input-183-edbe29341d4c>:23: DeprecationWarning: find_element_by_* commands are deprecated. Please use find_element() instead\n",
      "  driver.find_element_by_css_selector(\"#qt-TI-22-at-41\").send_keys(cp)\n",
      "<ipython-input-183-edbe29341d4c>:25: DeprecationWarning: find_element_by_* commands are deprecated. Please use find_element() instead\n",
      "  driver.find_element_by_css_selector(\"#next\").click()\n",
      "<ipython-input-183-edbe29341d4c>:39: DeprecationWarning: find_element_by_* commands are deprecated. Please use find_element() instead\n",
      "  company.append(driver.find_element_by_xpath(f\"/html/body/app-root/app-quotes/app-quote-page/div[2]/div/div/div/div[3]/div/div[2]/module-quotes-detail/div[{i+1}]/module-quote/div/div/div[2]/div/div/a/img\").get_attribute(\"src\").split('/')[-1].split('.')[0])\n",
      "<ipython-input-183-edbe29341d4c>:40: DeprecationWarning: find_element_by_* commands are deprecated. Please use find_element() instead\n",
      "  permanencia.append(driver.find_element_by_css_selector(f\"#Quote_{i} > div > div.price-block-container > div > div > div.tel-condition > div:nth-child(1) > p\").text)\n",
      "<ipython-input-183-edbe29341d4c>:41: DeprecationWarning: find_element_by_* commands are deprecated. Please use find_element() instead\n",
      "  megas.append(driver.find_element_by_css_selector(f\"#Quote_{i} > div > div.price-block-container > div > div > div.tel-condition > div.tel-feature > ul > li:nth-child(1) > span\").text)\n",
      "<ipython-input-183-edbe29341d4c>:42: DeprecationWarning: find_element_by_* commands are deprecated. Please use find_element() instead\n",
      "  gigas.append(driver.find_element_by_css_selector(f\"#Quote_{i} > div > div.price-block-container > div > div > div.tel-condition > div.tel-feature > ul > li:nth-child(3) > span\").text)\n",
      "<ipython-input-183-edbe29341d4c>:43: DeprecationWarning: find_element_by_* commands are deprecated. Please use find_element() instead\n",
      "  precio.append(driver.find_element_by_css_selector(f\"#Quote_{i} > div > div.price-block-container > div > div > div.price-wrapper > div > p > span.amount\").text)\n"
     ]
    }
   ],
   "source": [
    "driver = \"./chromedriver.exe\"\n",
    "driver = webdriver.Chrome(driver,options=opciones)\n",
    "url=\"https://www.rastreator.com/\"\n",
    "driver.get(url)\n",
    "driver.implicitly_wait(3)\n",
    "\n",
    "#aceptamos cookies en caso de que lo pidan:\n",
    "try:\n",
    "    driver.find_element_by_css_selector(\"#cookies > div > div.col-xs-12.col-sm-5.col-md-4.buttons > button.btn.solid-main.accept-btn\").click()\n",
    "except:\n",
    "    pass\n",
    "\n",
    "#seleccionamos que queremos comparar telefonía:\n",
    "time.sleep(3)\n",
    "driver.find_element_by_css_selector(\"body > div.overflow > section.products > div > div > div > div > div:nth-child(5)\").click()\n",
    "\n",
    "#seleccionamos que somos un particular:\n",
    "time.sleep(3)\n",
    "driver.find_element_by_css_selector(\"#qt-TI-14-at-27 > div > span\").click()\n",
    "\n",
    "#introducimos el código postal, esperamos, y hacemos click en \"avanzar\":\n",
    "time.sleep(2)\n",
    "driver.find_element_by_css_selector(\"#qt-TI-22-at-41\").send_keys(cp)\n",
    "time.sleep(3)\n",
    "driver.find_element_by_css_selector(\"#next\").click()\n",
    "\n",
    "company = []\n",
    "permanencia = []\n",
    "megas = []\n",
    "gigas = []\n",
    "precio = []\n",
    "\n",
    "time.sleep(5)\n",
    "driver.execute_script(\"window.scrollTo(0, document.body.scrollHeight);\")\n",
    "time.sleep(3)\n",
    "\n",
    "for i in range(30):\n",
    "    try: \n",
    "        company.append(driver.find_element_by_xpath(f\"/html/body/app-root/app-quotes/app-quote-page/div[2]/div/div/div/div[3]/div/div[2]/module-quotes-detail/div[{i+1}]/module-quote/div/div/div[2]/div/div/a/img\").get_attribute(\"src\").split('/')[-1].split('.')[0])\n",
    "        permanencia.append(driver.find_element_by_css_selector(f\"#Quote_{i} > div > div.price-block-container > div > div > div.tel-condition > div:nth-child(1) > p\").text)\n",
    "        megas.append(driver.find_element_by_css_selector(f\"#Quote_{i} > div > div.price-block-container > div > div > div.tel-condition > div.tel-feature > ul > li:nth-child(1) > span\").text)\n",
    "        gigas.append(driver.find_element_by_css_selector(f\"#Quote_{i} > div > div.price-block-container > div > div > div.tel-condition > div.tel-feature > ul > li:nth-child(3) > span\").text)\n",
    "        precio.append(driver.find_element_by_css_selector(f\"#Quote_{i} > div > div.price-block-container > div > div > div.price-wrapper > div > p > span.amount\").text)\n",
    "    except:\n",
    "        pass\n",
    "        \n",
    "#driver.quit()"
   ]
  },
  {
   "cell_type": "code",
   "execution_count": 184,
   "id": "efd4bea4",
   "metadata": {},
   "outputs": [],
   "source": [
    "company=[\"Lowi\" if com==\"Nuevologo_Lowi_68x48\" else com for com in company]\n",
    "permanencia=[p.split(\" \")[0]+\" \"+p.split(\" \")[1] for p in permanencia]\n",
    "megas=[p.split(\" \")[0] for p in megas]\n",
    "gigas=['+'.join(re.findall(r\"\\d*GB\", elem)) for elem in gigas]"
   ]
  },
  {
   "cell_type": "code",
   "execution_count": 186,
   "id": "f29d0e53",
   "metadata": {
    "scrolled": true
   },
   "outputs": [],
   "source": [
    "ofertas = pd.DataFrame()\n",
    "ofertas = ofertas.append(pd.DataFrame(company))\n",
    "ofertas = pd.concat([ofertas, pd.DataFrame(permanencia)], axis=1)\n",
    "ofertas = pd.concat([ofertas, pd.DataFrame(gigas)], axis=1)\n",
    "ofertas = pd.concat([ofertas, pd.DataFrame(megas)], axis=1)\n",
    "ofertas = pd.concat([ofertas, pd.DataFrame(precio)], axis=1)\n",
    "ofertas.columns = [\"Compañía\", \"permanencia\", \"Gigas_móvil\", \"Megas_fibra\", \"€/mes\"]"
   ]
  },
  {
   "cell_type": "code",
   "execution_count": 189,
   "id": "db74252c",
   "metadata": {},
   "outputs": [
    {
     "data": {
      "text/html": [
       "<div>\n",
       "<style scoped>\n",
       "    .dataframe tbody tr th:only-of-type {\n",
       "        vertical-align: middle;\n",
       "    }\n",
       "\n",
       "    .dataframe tbody tr th {\n",
       "        vertical-align: top;\n",
       "    }\n",
       "\n",
       "    .dataframe thead th {\n",
       "        text-align: right;\n",
       "    }\n",
       "</style>\n",
       "<table border=\"1\" class=\"dataframe\">\n",
       "  <thead>\n",
       "    <tr style=\"text-align: right;\">\n",
       "      <th></th>\n",
       "      <th>Compañía</th>\n",
       "      <th>permanencia</th>\n",
       "      <th>Gigas_móvil</th>\n",
       "      <th>Megas_fibra</th>\n",
       "      <th>€/mes</th>\n",
       "    </tr>\n",
       "  </thead>\n",
       "  <tbody>\n",
       "    <tr>\n",
       "      <th>3</th>\n",
       "      <td>o2</td>\n",
       "      <td>Sin permanencia.</td>\n",
       "      <td>10GB</td>\n",
       "      <td>100Mb</td>\n",
       "      <td>30,00</td>\n",
       "    </tr>\n",
       "    <tr>\n",
       "      <th>23</th>\n",
       "      <td>masmovil</td>\n",
       "      <td>3 meses</td>\n",
       "      <td>35GB</td>\n",
       "      <td>100Mb</td>\n",
       "      <td>39,90</td>\n",
       "    </tr>\n",
       "    <tr>\n",
       "      <th>10</th>\n",
       "      <td>o2</td>\n",
       "      <td>Sin permanencia.</td>\n",
       "      <td>25GB</td>\n",
       "      <td>300Mb</td>\n",
       "      <td>38,00</td>\n",
       "    </tr>\n",
       "  </tbody>\n",
       "</table>\n",
       "</div>"
      ],
      "text/plain": [
       "    Compañía       permanencia Gigas_móvil Megas_fibra  €/mes\n",
       "3         o2  Sin permanencia.        10GB       100Mb  30,00\n",
       "23  masmovil           3 meses        35GB       100Mb  39,90\n",
       "10        o2  Sin permanencia.        25GB       300Mb  38,00"
      ]
     },
     "execution_count": 189,
     "metadata": {},
     "output_type": "execute_result"
    }
   ],
   "source": [
    "ofertas.sample(3)"
   ]
  },
  {
   "cell_type": "code",
   "execution_count": 188,
   "id": "45ce38d4",
   "metadata": {},
   "outputs": [],
   "source": [
    "df.to_csv(\"DATA/ofertas.csv\")"
   ]
  }
 ],
 "metadata": {
  "kernelspec": {
   "display_name": "ironhack",
   "language": "python",
   "name": "ironhack"
  },
  "language_info": {
   "codemirror_mode": {
    "name": "ipython",
    "version": 3
   },
   "file_extension": ".py",
   "mimetype": "text/x-python",
   "name": "python",
   "nbconvert_exporter": "python",
   "pygments_lexer": "ipython3",
   "version": "3.8.12"
  }
 },
 "nbformat": 4,
 "nbformat_minor": 5
}
